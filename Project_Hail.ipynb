{
  "nbformat": 4,
  "nbformat_minor": 0,
  "metadata": {
    "colab": {
      "name": "Project_Hail.ipynb",
      "provenance": [],
      "collapsed_sections": [],
      "authorship_tag": "ABX9TyN91QvxtuLxCWhVvOXFDWU2"
    },
    "kernelspec": {
      "name": "python3",
      "display_name": "Python 3"
    },
    "language_info": {
      "name": "python"
    }
  },
  "cells": [
    {
      "cell_type": "code",
      "metadata": {
        "colab": {
          "base_uri": "https://localhost:8080/"
        },
        "id": "2bcUVQzilShD",
        "outputId": "7ccdd420-7c11-4bcf-8856-666ea11173e4"
      },
      "source": [
        "#Project Hail\n",
        "#Last Worked on by: Chris\n",
        "#Last Update on: 09/04/21\n",
        "#To-Do: \n",
        "#Parameter wissenschaftlich bestimmen\n",
        "#Live-Update Datenbank Zugang beschaffen \n",
        
        "\n",
        "\n",
        "import numpy as np\n",
        "import pandas as pd\n",
        "\n",
        "TestWetter = pd.read_csv(\"TestWetter.csv\")\n",
        "print(TestWetter)\n",
        "\n",
        "TWClean = TestWetter.drop(columns=['tavg','tmax', 'pres', 'wpgt', 'tsun', 'wspd', 'wdir' ])\n",
        "TWClean['snow'] = TWClean['snow'].replace(np.nan, 0)\n",
        "df = TWClean[TWClean.snow !=0]\n",
        "\n",
        "Hail = df[TWClean.prcp >10]\n",
        "Hail\n",
        "\n",
        "print('On these days you should protect your PV-panels from Damage due to Hail:', Hail['date'])\n",
        "\n",
        "\n"
      ],
      "execution_count": null,
      "outputs": [
        {
          "output_type": "stream",
          "text": [
            "           date  tavg  tmin  tmax  prcp  snow  wdir  wspd  wpgt  pres  tsun\n",
            "0    2019-01-01   4.2   3.0   5.6   2.4   0.0   NaN   NaN   NaN   NaN   NaN\n",
            "1    2019-01-02   1.7  -5.5   4.1   0.2   0.0   NaN   NaN   NaN   NaN   NaN\n",
            "2    2019-01-03  -2.4  -7.2   1.5   0.4  10.0   NaN   NaN   NaN   NaN   NaN\n",
            "3    2019-01-04  -0.4  -4.1   3.5   0.0  20.0   NaN   NaN   NaN   NaN   NaN\n",
            "4    2019-01-05   1.0   0.1   2.4   3.9   0.0   NaN   NaN   NaN   NaN   NaN\n",
            "..          ...   ...   ...   ...   ...   ...   ...   ...   ...   ...   ...\n",
            "360  2019-12-27   5.7   3.8   7.3   1.7   0.0   NaN   NaN   NaN   NaN   NaN\n",
            "361  2019-12-28   3.0  -1.1   5.8   0.0   0.0   NaN   NaN   NaN   NaN   NaN\n",
            "362  2019-12-29  -1.5  -4.5   3.6   0.0   0.0   NaN   NaN   NaN   NaN   NaN\n",
            "363  2019-12-30  -1.6  -5.0   3.3   0.0   0.0   NaN   NaN   NaN   NaN   NaN\n",
            "364  2019-12-31  -0.5  -2.3   0.5   0.0   0.0   NaN   NaN   NaN   NaN   NaN\n",
            "\n",
            "[365 rows x 11 columns]\n",
            "On these days you should protect your PV-panels from Damage due to Hail: 26     2019-01-27\n",
            "346    2019-12-13\n",
            "Name: date, dtype: object\n"
          ],
          "name": "stdout"
        },
        {
          "output_type": "stream",
          "text": [
            "/usr/local/lib/python3.7/dist-packages/ipykernel_launcher.py:20: UserWarning: Boolean Series key will be reindexed to match DataFrame index.\n"
          ],
          "name": "stderr"
        }
      ]
    }
  ]
}
